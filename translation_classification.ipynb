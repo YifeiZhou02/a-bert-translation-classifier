{
 "cells": [
  {
   "cell_type": "markdown",
   "metadata": {},
   "source": [
    "# Import necessary libraries"
   ]
  },
  {
   "cell_type": "markdown",
   "metadata": {},
   "source": [
    "General guideline:\n",
    "\n",
    "This notebook is a bert implementation of classification of human and machine translation from Chinese to English. \n",
    "It achieves classification macro F-1 score of 0.878 on the test set. To validate the results, run all the cells below."
   ]
  },
  {
   "cell_type": "code",
   "execution_count": 260,
   "metadata": {},
   "outputs": [],
   "source": [
    "#import necessary libraries\n",
    "import torch\n",
    "import numpy as np\n",
    "from torch.utils.data import Dataset\n",
    "import torch.nn as nn\n",
    "import torch.nn.functional as F\n",
    "import torch.optim as optim\n",
    "from torch.utils.data import DataLoader\n",
    "import pickle\n",
    "from sklearn.model_selection import train_test_split\n",
    "import matplotlib.pyplot as plt\n",
    "from sklearn.metrics import f1_score"
   ]
  },
  {
   "cell_type": "code",
   "execution_count": 41,
   "metadata": {},
   "outputs": [],
   "source": [
    "#import bert\n",
    "from transformers import AutoTokenizer\n",
    "from transformers import AutoModel\n",
    "chinese_tokenizer = AutoTokenizer.from_pretrained('bert-base-chinese')\n",
    "chinese_bert = AutoModel.from_pretrained(\"bert-base-chinese\")\n",
    "english_tokenizer = AutoTokenizer.from_pretrained('bert-base-uncased')\n",
    "english_bert = AutoModel.from_pretrained(\"bert-base-uncased\")"
   ]
  },
  {
   "cell_type": "markdown",
   "metadata": {},
   "source": [
    "# Definition of a class of data unit"
   ]
  },
  {
   "cell_type": "code",
   "execution_count": 69,
   "metadata": {},
   "outputs": [],
   "source": [
    "#the class of a pair of sentences\n",
    "#human is 0 and machine is 1\n",
    "class Data_unit:\n",
    "    #initialize the data_unit with some input of raw lines\n",
    "    def __init__(self, raw_lines):\n",
    "        #-1 is used to remove the last \\n\n",
    "        #we replace the empty space between chinese characters\n",
    "        self.chinese = raw_lines[0][:-1].replace(' ','')\n",
    "        self.gold = raw_lines[1][:-1]\n",
    "        self.another = raw_lines[2][:-1]\n",
    "        self.score = float(raw_lines[3][:-1])\n",
    "        if raw_lines[4] == 'H\\n' :\n",
    "            self.label = 0\n",
    "        elif raw_lines[4] == 'M\\n':\n",
    "            self.label = 1\n",
    "        #if something is wrong rasie an error\n",
    "        else:\n",
    "            raise RuntimeError('Formatting problem of the input file')\n",
    "    #init bert embeddings for the data unit\n",
    "    def init_bert_embeddings(self, chinese_tokenizer, chinese_bert, english_tokenizer, english_bert):\n",
    "        self.chinese_embeddings = bert_embeddings(self.chinese, chinese_tokenizer, chinese_bert)\n",
    "        self.gold_embeddings = bert_embeddings(self.gold, english_tokenizer, english_bert)\n",
    "        self.another_embeddings = bert_embeddings(self.another, english_tokenizer, english_bert)\n",
    "    #return the feature to be trained \n",
    "    def get_feature(self):\n",
    "        return np.concatenate((self.chinese_embeddings, self.gold_embeddings, self.another_embeddings))\n",
    "        "
   ]
  },
  {
   "cell_type": "markdown",
   "metadata": {},
   "source": [
    "# Preprocess data"
   ]
  },
  {
   "cell_type": "code",
   "execution_count": 70,
   "metadata": {},
   "outputs": [],
   "source": [
    "#get bert embeddings\n",
    "def bert_embeddings(str1, tokenizer, bert):\n",
    "    encoded_input = tokenizer(str1, return_tensors='pt')\n",
    "    embeddings = np.max(bert(**encoded_input)[0].detach().numpy(),axis =1).flatten()\n",
    "    return embeddings"
   ]
  },
  {
   "cell_type": "code",
   "execution_count": 71,
   "metadata": {},
   "outputs": [],
   "source": [
    "#turn the file path into a list of data_units\n",
    "def preprocess_data(file_path):\n",
    "    data = []\n",
    "    current_contents = []\n",
    "    with open(file_path) as fb:\n",
    "        for line in fb:\n",
    "            if line == '\\n':\n",
    "                data.append(Data_unit(current_contents))\n",
    "                current_contents = []\n",
    "            \n",
    "            else:\n",
    "                current_contents.append(line)\n",
    "    data.append(Data_unit(contents))\n",
    "    return data"
   ]
  },
  {
   "cell_type": "code",
   "execution_count": 82,
   "metadata": {},
   "outputs": [],
   "source": [
    "#build features and labels with data_unit objects initialized with bert embeddings\n",
    "def build_features_and_labels(data):\n",
    "    features = np.array([d.get_feature() for d in data])\n",
    "    labels = np.array([d.label for d in data])\n",
    "    return features, labels"
   ]
  },
  {
   "cell_type": "code",
   "execution_count": 76,
   "metadata": {},
   "outputs": [],
   "source": [
    "#initialize training data\n",
    "training_data = preprocess_data('train.txt')\n",
    "for du in training_data:\n",
    "    du.init_bert_embeddings(chinese_tokenizer, chinese_bert, english_tokenizer, english_bert)"
   ]
  },
  {
   "cell_type": "code",
   "execution_count": 77,
   "metadata": {},
   "outputs": [],
   "source": [
    "#initialize testing data\n",
    "testing_data = preprocess_data('test.txt')\n",
    "for du in testing_data:\n",
    "    du.init_bert_embeddings(chinese_tokenizer, chinese_bert, english_tokenizer, english_bert)"
   ]
  },
  {
   "cell_type": "code",
   "execution_count": 79,
   "metadata": {},
   "outputs": [],
   "source": [
    "#save the preprocessed data\n",
    "import pickle\n",
    "with open('training_data.txt','wb') as fb:\n",
    "    pickle.dump(training_data, fb)\n",
    "with open('testing_data.txt' , 'wb') as fb:\n",
    "    pickle.dump(testing_data, fb)"
   ]
  },
  {
   "cell_type": "code",
   "execution_count": null,
   "metadata": {},
   "outputs": [],
   "source": [
    "#load the preprocessed data\n",
    "with open('training_data.txt','rb') as fb:\n",
    "    traing_data = pickle.load(fb)\n",
    "with open('testing_data.txt' , 'rb') as fb:\n",
    "    testing_data = pickle.load(fb)"
   ]
  },
  {
   "cell_type": "markdown",
   "metadata": {},
   "source": [
    "Experiment with POS"
   ]
  },
  {
   "cell_type": "code",
   "execution_count": 266,
   "metadata": {},
   "outputs": [
    {
     "name": "stdout",
     "output_type": "stream",
     "text": [
      "1\n",
      "0.22727272727272727\n"
     ]
    }
   ],
   "source": [
    "#experiment with POS \n",
    "import nltk\n",
    "tagged_sents = nltk.corpus.brown.tagged_sents(categories = 'reviews')\n",
    "tagger = nltk.ClassifierBasedPOSTagger(train=tagged_sents,cutoff_prob = .8)\n",
    "tagged_sents = nltk.corpus.brown.tagged_sents(categories = 'reviews')\n",
    "tagger = nltk.ClassifierBasedPOSTagger(train=tagged_sents,cutoff_prob = .8)\n",
    "index = 29\n",
    "print(training_data[index].label)\n",
    "text = training_data[index].another\n",
    "tokens = nltk.word_tokenize(text)\n",
    "tag = tagger.tag(tokens)\n",
    "tag_len = len(tag)\n",
    "None_count = 0\n",
    "for word, t in tag:\n",
    "    if t == None:\n",
    "        None_count += 1\n",
    "print(None_count/tag_len)"
   ]
  },
  {
   "cell_type": "markdown",
   "metadata": {},
   "source": [
    "# Start Training"
   ]
  },
  {
   "cell_type": "code",
   "execution_count": 478,
   "metadata": {},
   "outputs": [],
   "source": [
    "#build features and labels\n",
    "training_features,training_labels = build_features_and_labels(training_data)\n",
    "testing_features, testing_labels = build_features_and_labels(testing_data)"
   ]
  },
  {
   "cell_type": "code",
   "execution_count": 479,
   "metadata": {},
   "outputs": [
    {
     "data": {
      "text/plain": [
       "400"
      ]
     },
     "execution_count": 479,
     "metadata": {},
     "output_type": "execute_result"
    }
   ],
   "source": [
    "#use pca to facilitate fast training\n",
    "#and a possible tool to reduce overfit\n",
    "from sklearn.decomposition import PCA\n",
    "pca = PCA(.93)\n",
    "pca.fit(training_features)\n",
    "training_features = pca.transform(training_features)\n",
    "testing_features = pca.transform(testing_features)\n",
    "pca.n_components_"
   ]
  },
  {
   "cell_type": "code",
   "execution_count": 576,
   "metadata": {},
   "outputs": [],
   "source": [
    "X_train, X_val, y_train, y_val = train_test_split(training_features, \\\n",
    "                                                      training_labels, test_size = .2, random_state = 0)"
   ]
  },
  {
   "cell_type": "code",
   "execution_count": 577,
   "metadata": {},
   "outputs": [],
   "source": [
    "#pytorch implementation of a neural network for classification\n",
    "class Net(nn.Module):\n",
    "    def __init__(self):\n",
    "        super(Net, self).__init__()\n",
    "        self.fc1 = nn.Linear(X_train.shape[1],32)\n",
    "        self.drop = nn.Dropout(p=0.2)\n",
    "        self.fc2 = nn.Linear(32,8)\n",
    "        self.fc3 = nn.Linear(8,2)\n",
    "        self.sf = nn.Softmax(dim = 1)\n",
    "    def forward(self, x):\n",
    "        x = F.relu(self.fc1(x))\n",
    "        x = F.relu(self.fc2(x))\n",
    "        x = self.drop(x)\n",
    "        x = self.sf(self.fc3(x))\n",
    "        return x\n",
    "#train one epoch, return the loss\n",
    "def model_train(net, train_dataloader, optimizer, criterion):\n",
    "    net.train()\n",
    "    losses = []\n",
    "    for batch_idx, (inputs, target) in enumerate(train_dataloader):\n",
    "        optimizer.zero_grad()\n",
    "        outputs = net(inputs)\n",
    "        target = target.type(torch.LongTensor)\n",
    "        loss = criterion(outputs.squeeze(), target.squeeze())\n",
    "        loss.backward()\n",
    "        optimizer.step()\n",
    "        losses.append(loss.item())\n",
    "    return np.mean(np.array(losses))\n",
    "#validate the model, return the loss\n",
    "def model_validate(net, val_dataloader, criterion):\n",
    "    net.eval()\n",
    "    losses = []\n",
    "    for batch_num, (inputs, target) in enumerate(val_dataloader):\n",
    "        outputs  = net(inputs)\n",
    "        target = target.type(torch.LongTensor)\n",
    "        loss = criterion(outputs.squeeze(), target.squeeze())\n",
    "        losses.append(loss.item())\n",
    "    return np.mean(np.array(losses))      "
   ]
  },
  {
   "cell_type": "code",
   "execution_count": 578,
   "metadata": {},
   "outputs": [],
   "source": [
    "#set the right format for training data and test data, for pytorch\n",
    "X_train = torch.Tensor(X_train)\n",
    "X_val = torch.Tensor(X_val)\n",
    "y_train = torch.Tensor(y_train)\n",
    "y_val = torch.Tensor(y_val)\n",
    "train_dataset = torch.utils.data.TensorDataset(X_train, y_train)\n",
    "train_dataloader = DataLoader(train_dataset, batch_size=64, shuffle=True)\n",
    "val_dataset = torch.utils.data.TensorDataset(X_val, y_val)\n",
    "val_dataloader = DataLoader(val_dataset, batch_size=64, shuffle=True)\n",
    "net = Net()"
   ]
  },
  {
   "cell_type": "code",
   "execution_count": 579,
   "metadata": {},
   "outputs": [],
   "source": [
    "criterion = nn.CrossEntropyLoss() \n",
    "optimizer = optim.Adam(net.parameters(), lr = 1e-3)"
   ]
  },
  {
   "cell_type": "code",
   "execution_count": 580,
   "metadata": {},
   "outputs": [],
   "source": [
    "#train the model and create the train_loss and val_loss history\n",
    "train_losses = []\n",
    "val_losses = []\n",
    "for i in range(30):\n",
    "    train_losses.append(model_train(net, train_dataloader, optimizer, criterion))\n",
    "    val_losses.append(model_validate(net, val_dataloader, criterion))"
   ]
  },
  {
   "cell_type": "code",
   "execution_count": 586,
   "metadata": {},
   "outputs": [
    {
     "data": {
      "image/png": "[encoded data removed]",
      "text/plain": [
       "<Figure size 432x288 with 1 Axes>"
      ]
     },
     "metadata": {
      "needs_background": "light"
     },
     "output_type": "display_data"
    }
   ],
   "source": [
    "#plot the loss history\n",
    "plt.plot(train_losses, label = 'Training')\n",
    "plt.plot(val_losses, label = \"Validating\")\n",
    "plt.title(\"Neural network hidden layer size 32, 8\")\n",
    "plt.legend()\n",
    "plt.savefig('learning.pdf')"
   ]
  },
  {
   "cell_type": "code",
   "execution_count": 582,
   "metadata": {},
   "outputs": [
    {
     "data": {
      "text/plain": [
       "0.8778539194384087"
      ]
     },
     "execution_count": 582,
     "metadata": {},
     "output_type": "execute_result"
    }
   ],
   "source": [
    "# calculate f-1 score\n",
    "predictions = np.argmax(net(torch.Tensor(testing_features)).detach().numpy(),axis = 1)\n",
    "f1_score(testing_labels, predictions, average='macro')"
   ]
  }
 ],
 "metadata": {
  "kernelspec": {
   "display_name": "Python 3",
   "language": "python",
   "name": "python3"
  },
  "language_info": {
   "codemirror_mode": {
    "name": "ipython",
    "version": 3
   },
   "file_extension": ".py",
   "mimetype": "text/x-python",
   "name": "python",
   "nbconvert_exporter": "python",
   "pygments_lexer": "ipython3",
   "version": "3.8.3"
  }
 },
 "nbformat": 4,
 "nbformat_minor": 4
}
